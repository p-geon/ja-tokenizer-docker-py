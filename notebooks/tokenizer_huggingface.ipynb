{
 "cells": [
  {
   "cell_type": "markdown",
   "id": "845c9ab7",
   "metadata": {},
   "source": [
    "# 東北大 huggingface Tokenizer"
   ]
  },
  {
   "cell_type": "markdown",
   "id": "27957894",
   "metadata": {},
   "source": [
    "## 初期化\n",
    "\n",
    "`transformers`の`AutoTokenizer`を読み込むだけ。"
   ]
  },
  {
   "cell_type": "code",
   "execution_count": 1,
   "id": "11d2f963",
   "metadata": {},
   "outputs": [],
   "source": [
    "from transformers import AutoTokenizer"
   ]
  },
  {
   "cell_type": "markdown",
   "id": "f632e0b7",
   "metadata": {},
   "source": [
    "## Tokenizerモデル読み込み等"
   ]
  },
  {
   "cell_type": "code",
   "execution_count": 2,
   "id": "2fa51f16",
   "metadata": {},
   "outputs": [],
   "source": [
    "tokenizer = AutoTokenizer.from_pretrained(\"cl-tohoku/bert-base-japanese\")"
   ]
  },
  {
   "cell_type": "code",
   "execution_count": 3,
   "id": "ff565bb3",
   "metadata": {},
   "outputs": [],
   "source": [
    "def check_tokenized_result(sentence: str) -> None:\n",
    "    output = tokenizer.tokenize(sentence)\n",
    "    print(f'result: ')\n",
    "    print(\"\\t sentence: \", sentence)\n",
    "    print(\"\\t output:\", output)"
   ]
  },
  {
   "cell_type": "markdown",
   "id": "ae9be7a2",
   "metadata": {},
   "source": [
    "## 実行\n",
    "\n",
    "`sentence`引数に渡した文を分かち書きした結果を表示します。"
   ]
  },
  {
   "cell_type": "code",
   "execution_count": 4,
   "id": "396c37c4",
   "metadata": {},
   "outputs": [
    {
     "name": "stdout",
     "output_type": "stream",
     "text": [
      "result: \n",
      "\t sentence:  ピジョンとジョン・レノンが融合してピジョンレノンと成った。\n",
      "\t output: ['ピ', '##ジョン', 'と', 'ジョン', '・', 'レノ', '##ン', 'が', '融合', 'し', 'て', 'ピ', '##ジョン', '##レノ', '##ン', 'と', '成っ', 'た', '。']\n",
      "result: \n",
      "\t sentence:  プルプルプルキンエ細胞\n",
      "\t output: ['プル', '##プル', '##プル', '##キン', '##エ', '細胞']\n",
      "result: \n",
      "\t sentence:  まずはテフをオフチョベットします。\n",
      "    そしてオフチョベットしたテフをマブガッドしてリットを作るの。\n",
      "    そして発酵させたリットにアブシィトを加えて混ぜます。\n",
      "    あとは焼くだけよ\n",
      "\t output: ['まずは', 'テ', '##フ', 'を', 'オフ', '##チョ', '##ベット', 'し', 'ます', '。', 'そして', 'オフ', '##チョ', '##ベット', 'し', 'た', 'テ', '##フ', 'を', 'マ', '##ブ', '##ガ', '##ッド', 'し', 'て', 'リ', '##ット', 'を', '作る', 'の', '。', 'そして', '発酵', 'さ', 'せ', 'た', 'リ', '##ット', 'に', 'アブ', '##シ', '##ィ', '##ト', 'を', '加え', 'て', '混ぜ', 'ます', '。', 'あと', 'は', '焼く', 'だけ', 'よ']\n"
     ]
    }
   ],
   "source": [
    "check_tokenized_result(sentence=\"ピジョンとジョン・レノンが融合してピジョンレノンと成った。\")\n",
    "check_tokenized_result(sentence=\"プルプルプルキンエ細胞\")\n",
    "check_tokenized_result(sentence=\"\"\"まずはテフをオフチョベットします。\n",
    "    そしてオフチョベットしたテフをマブガッドしてリットを作るの。\n",
    "    そして発酵させたリットにアブシィトを加えて混ぜます。\n",
    "    あとは焼くだけよ\"\"\")"
   ]
  }
 ],
 "metadata": {
  "kernelspec": {
   "display_name": "Python 3 (ipykernel)",
   "language": "python",
   "name": "python3"
  },
  "language_info": {
   "codemirror_mode": {
    "name": "ipython",
    "version": 3
   },
   "file_extension": ".py",
   "mimetype": "text/x-python",
   "name": "python",
   "nbconvert_exporter": "python",
   "pygments_lexer": "ipython3",
   "version": "3.9.6"
  }
 },
 "nbformat": 4,
 "nbformat_minor": 5
}
